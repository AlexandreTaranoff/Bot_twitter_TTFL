{
 "cells": [
  {
   "cell_type": "code",
   "execution_count": 677,
   "metadata": {},
   "outputs": [],
   "source": [
    "    import twitter\n",
    "    import re \n",
    "    from selenium import webdriver\n",
    "    from bs4 import BeautifulSoup\n",
    "    import time \n",
    "    import pandas as pd \n",
    "    from webdriver_manager.chrome import ChromeDriverManager\n",
    "    import datetime as dt\n",
    "    import os\n",
    "    import tweepy as tw\n",
    "    import numpy as np\n",
    "    import logging"
   ]
  },
  {
   "cell_type": "markdown",
   "metadata": {},
   "source": [
    "# TTFL Data"
   ]
  },
  {
   "cell_type": "markdown",
   "metadata": {},
   "source": [
    "### Everyday Data"
   ]
  },
  {
   "cell_type": "code",
   "execution_count": 662,
   "metadata": {},
   "outputs": [],
   "source": [
    "url_ttfl = 'https://fantasy.trashtalk.co/login/#login'\n",
    "email = ''\n",
    "mdp = ''"
   ]
  },
  {
   "cell_type": "code",
   "execution_count": 672,
   "metadata": {},
   "outputs": [
    {
     "name": "stderr",
     "output_type": "stream",
     "text": [
      "[WDM] - ====== WebDriver manager ======\n",
      "[WDM] - Current google-chrome version is 91.0.4472\n",
      "[WDM] - Get LATEST driver version for 91.0.4472\n"
     ]
    },
    {
     "name": "stdout",
     "output_type": "stream",
     "text": [
      "\n",
      "\n"
     ]
    },
    {
     "name": "stderr",
     "output_type": "stream",
     "text": [
      "[WDM] - Driver [/Users/alexandretaranoff/.wdm/drivers/chromedriver/mac64/91.0.4472.101/chromedriver] found in cache\n"
     ]
    },
    {
     "name": "stdout",
     "output_type": "stream",
     "text": [
      "lalala\n",
      "CPU times: user 94.8 ms, sys: 28.1 ms, total: 123 ms\n",
      "Wall time: 12.3 s\n"
     ]
    }
   ],
   "source": [
    "%%time\n",
    "def get_soup():\n",
    "    op = webdriver.ChromeOptions()\n",
    "    op.add_argument('headless')\n",
    "    driver = webdriver.Chrome(ChromeDriverManager().install(),options = op)\n",
    "    driver.get(url_ttfl)\n",
    "    time.sleep(0.3)\n",
    "\n",
    "    #Check if there are asking for data management \n",
    "\n",
    "    data_button = driver.find_element_by_class_name('sd-cmp-JnaLO')\n",
    "    if data_button is not None :\n",
    "        data_button.click()\n",
    "    driver.find_element_by_name('email').send_keys(email)\n",
    "    driver.find_element_by_name('password').send_keys(mdp)\n",
    "    driver.find_element_by_xpath(\"//button[@class='btn btn-primary font-montserrat all-caps fs-12 pull-right xs-pull-left']\").click()\n",
    "    driver.find_element_by_css_selector('[href = \"/?tpl=team\"] ').click()\n",
    "    src = driver.page_source \n",
    "    soup = BeautifulSoup(src,'html.parser')\n",
    "    driver.close()\n",
    "    return soup \n",
    "\n"
   ]
  },
  {
   "cell_type": "code",
   "execution_count": 751,
   "metadata": {
    "scrolled": true
   },
   "outputs": [
    {
     "name": "stdout",
     "output_type": "stream",
     "text": [
      "CPU times: user 4 µs, sys: 0 ns, total: 4 µs\n",
      "Wall time: 6.91 µs\n"
     ]
    }
   ],
   "source": [
    "%%time\n",
    "\n",
    "\"\"\"This will get your daily data and returns the appropriate data frame and dict.\n",
    "I append all of the attributes in a dictionnary. Could have been done in classes I know. \n",
    "        \n",
    "                                        \"\"\"\n",
    "def get_data(soup):\n",
    "    ranking = []\n",
    "    twitter_name = []\n",
    "    name = []\n",
    "    total_points = []\n",
    "    last_night_points = []\n",
    "    last_night_player = []\n",
    "    evolution = []\n",
    "    data = soup.find('table',{'data-plugin' : 'dataTable'})\n",
    "    table = data.find_all('tr',{'role' : 'row'})[1:]\n",
    "    for rows in table :\n",
    "        all_rows = rows.find_all('td')\n",
    "        ranking.append(int(all_rows[0].get_text(strip = True)))\n",
    "        twitter_link = all_rows[1].find('img',{})\n",
    "        if twitter_link is not None : \n",
    "            twitter_name.append(twitter_link[\"data-original-title\"])\n",
    "            name.append(all_rows[1].find_all('a',{})[1].get_text(strip = True))\n",
    "        else : \n",
    "            twitter_name.append(None)\n",
    "            name.append(all_rows[1].find_all('a',{})[0].get_text(strip = True))\n",
    "        total_points.append(all_rows[2].get_text(strip = True))\n",
    "        evolution.append(all_rows[3].get_text(strip = True ))\n",
    "        points_name = all_rows[4].get_text(strip = True)\n",
    "        print(points_name)\n",
    "        regex_number = re.compile(r'(\\d)+')\n",
    "        print(regex_number.search(points_name).group())\n",
    "        last_night_points.append(int(regex_number.search(points_name).group()))\n",
    "        regex_name = re.compile(r'(\\w(\\w)+\\s(\\w)+)|(\\w\\.\\w\\.\\s(\\w)+)')\n",
    "        if regex_name.search(points_name) != None :\n",
    "            last_night_player.append(regex_name.search(points_name).group())\n",
    "        else : last_night_player.append(None)\n",
    "        date = [dt.datetime.today().strftime('%d-%m-%Y')]*len(ranking)\n",
    "        dic_ttfl_caviste = {'ranking' : ranking, 'name' : name ,  'twitter_name' :  twitter_name,\n",
    "                            'total_points' : total_points, 'last_night_player' : last_night_player ,\n",
    "                            'last_night_points' : last_night_points,'date_pick': date}\n",
    "        data_day = pd.DataFrame(dic_ttfl_caviste, index = dic_ttfl_caviste['date_pick']).sort_values(by =['ranking','name'], ascending = True).drop(columns= ['date_pick'])\n",
    "\n",
    "    return data_day,dic_ttfl_caviste\n",
    "\n"
   ]
  },
  {
   "cell_type": "markdown",
   "metadata": {},
   "source": [
    "### Monthly  & Deck précédent "
   ]
  },
  {
   "cell_type": "code",
   "execution_count": 691,
   "metadata": {},
   "outputs": [
    {
     "name": "stdout",
     "output_type": "stream",
     "text": [
      "CPU times: user 12 µs, sys: 41 µs, total: 53 µs\n",
      "Wall time: 55.8 µs\n"
     ]
    }
   ],
   "source": [
    "%%time\n",
    "\n",
    "\"\"\"This will get your daily data and returns the appropriate data frame and dict.\n",
    "I append all of the attributes in a dictionnary. Could have been done in classes I know.  \"\"\"\n",
    "def get_data_deck_month(soup):\n",
    "    points = []\n",
    "    name = []\n",
    "    html_deck = soup.find('div',{'id': 'exampleTopComponents'}).find('tbody',{}).find_all('tr',{})\n",
    "    html_month = soup.find('div',{'id': 'exampleTopCss'}).find('tbody',{}).find_all('tr',{})\n",
    "    month = []\n",
    "    deck_number = []\n",
    "    number_str = soup.find('a',{'href': '#exampleTopComponents'}).get_text(strip = True)\n",
    "    regex_number = re.compile(r'(\\d)+')\n",
    "    number = int(regex_number.search(number_str).group())\n",
    "\n",
    "    for html in html_month : \n",
    "        html_m = html.find_all('td',{})\n",
    "        twitter_or_not = html_m[1].find_all('a')\n",
    "        name.append(twitter_or_not[len(twitter_or_not)-1].get_text(strip = True))\n",
    "        points.append(int(html_m[2].get_text(strip = True)))\n",
    "        month.append(dt.datetime.today().month)\n",
    "\n",
    "    name_2 = []\n",
    "    points_2 =[]\n",
    "    for html in html_deck : \n",
    "        html_m = html.find_all('td',{})\n",
    "        twitter_or_not = html_m[1].find_all('a')\n",
    "        name_2.append(twitter_or_not[len(twitter_or_not)-1].get_text(strip = True))\n",
    "        points_2.append(int(html_m[2].get_text(strip = True)))\n",
    "        deck_number.append(number)\n",
    "    \n",
    "    dic_month = {'name' : name, 'points' : points, 'month' : month }\n",
    "    dic_deck = {'name' : name_2 , 'points' : points_2, 'deck_number' : deck_number }\n",
    "    data_month = pd.DataFrame(dic_month).sort_values(by = ['points','month'], ascending = False)\n",
    "    data_deck = pd.DataFrame(dic_deck).sort_values(by=['points','deck_number'],ascending = False )\n",
    "    return data_month,data_deck,dic_month,dic_deck"
   ]
  },
  {
   "cell_type": "markdown",
   "metadata": {},
   "source": [
    "### Twitter API "
   ]
  },
  {
   "cell_type": "code",
   "execution_count": 692,
   "metadata": {},
   "outputs": [],
   "source": [
    "api_key = 'Your Api Key'\n",
    "api_secret_key = 'Your Secret API Key'\n",
    "access_token = 'Your access token'\n",
    "access_secret_token = 'Your secret access token'"
   ]
  },
  {
   "cell_type": "code",
   "execution_count": 693,
   "metadata": {},
   "outputs": [],
   "source": [
    "auth = tw.OAuthHandler(api_key, api_secret_key)\n",
    "auth.set_access_token(access_token, access_secret_token)\n",
    "api = tw.API(auth, wait_on_rate_limit=True)"
   ]
  },
  {
   "cell_type": "code",
   "execution_count": 694,
   "metadata": {},
   "outputs": [],
   "source": [
    "'''Get the tweet with the scores'''\n",
    "\n",
    "\n",
    "def get_tweet_daily(dic_day):\n",
    "    nb_joueurs = len(dic_day[\"name\"])\n",
    "    somme = 0 \n",
    "    if dic_day['last_night_player'] == [None]*nb_joueurs:\n",
    "        tweet = ' Pas de match hier soir, on se revoit demain pour une update en cas de match'\n",
    "        tweet_2 = ''\n",
    "    else :\n",
    "        tweet = 'On est le ' + str(dic_day[\"date_pick\"][0]) + ' et  le bilan de la veille est : \\n'\n",
    "        tweet_2 = ''\n",
    "        tweet_temp = tweet\n",
    "        name = ''\n",
    "        for i in range(nb_joueurs):\n",
    "            somme += dic_day[\"last_night_points\"][i]\n",
    "            if dic_day[\"twitter_name\"][i] is not None :\n",
    "                name = '@'+ str(dic_day[\"twitter_name\"][i])\n",
    "            else : \n",
    "                name = dic_day[\"name\"][i]\n",
    "            tweet_temp += '- {} : {} pour {} pts \\n'.format(name,dic_day['last_night_player'][i],\n",
    "                                                                 dic_day[\"last_night_points\"][i])\n",
    "            if len(tweet_temp) > 270:\n",
    "                tweet_2 += '-{} : {} pour {} pts \\n'.format(name,dic_day['last_night_player'][i],\n",
    "                                                                 dic_day[\"last_night_points\"][i])\n",
    "            else : \n",
    "                tweet += '-{} : {} pour {} pts \\n'.format(name,dic_day['last_night_player'][i],\n",
    "                                                                 dic_day[\"last_night_points\"][i])\n",
    "    return tweet,tweet_2,somme \n",
    "\n"
   ]
  },
  {
   "cell_type": "code",
   "execution_count": 696,
   "metadata": {},
   "outputs": [],
   "source": [
    "\"\"\"Get the gif that you will send along with the daily tweet\"\"\"\n",
    "\n",
    "def get_gif_daily(somme):\n",
    "    if somme == 0 : \n",
    "        choix = gifs_happy[np.random.randint(len(gifs_happy))]\n",
    "    elif somme < 200 : \n",
    "        choix = gifs_not_happy[np.random.randint(len(gifs_not_happy))]\n",
    "    elif somme < 400 :\n",
    "        choix = gifs_meh[np.random.randint(len(gifs_meh))]\n",
    "    else : \n",
    "        choix = gifs_happy[np.random.randint(len(gifs_happy))]\n",
    "    return choix "
   ]
  },
  {
   "cell_type": "code",
   "execution_count": 641,
   "metadata": {},
   "outputs": [
    {
     "name": "stdout",
     "output_type": "stream",
     "text": [
      "CPU times: user 5 µs, sys: 1 µs, total: 6 µs\n",
      "Wall time: 8.82 µs\n"
     ]
    }
   ],
   "source": [
    "%%time\n",
    "'''Get the tweet you will send each week'''\n",
    "def get_tweet_deck(dic_deck,data_day):\n",
    "    tweet = 'On est lundi, petit récap du deck n°{} \\n'.format(dic_deck['deck_number'][0])\n",
    "    nb_joueurs = len(dic_deck[\"deck_number\"])\n",
    "    for i in range(nb_joueurs):\n",
    "        name = data_day.loc[data_day['name']== dic_deck[\"name\"][i],[\"twitter_name\"]][\"twitter_name\"][0]\n",
    "        if name == None : \n",
    "            name = dic_deck[\"name\"][i]\n",
    "        tweet+= \"{}.@{}:{}pts\\n\".format(i+1,name,dic_deck['points'][i])\n",
    "        if i == 0 :\n",
    "            tweet_best = \"Pour le deck n°{}, notre meilleur joueur est @{} 🥳🥳🥳🥳🥳\".format(dic_deck['deck_number'][0],\n",
    "                                                                                        name)\n",
    "    return tweet,tweet_best"
   ]
  },
  {
   "cell_type": "code",
   "execution_count": 660,
   "metadata": {},
   "outputs": [],
   "source": [
    "'''Put all the gifs that you are gonna be using in your tweets'''\n",
    "\n",
    "gifs_happy = []\n",
    "\n",
    "\n",
    "gifs_not_happy = []\n",
    "\n",
    "\n",
    "gifs_monday = []\n",
    "\n",
    "gif_month = []\n"
   ]
  },
  {
   "cell_type": "code",
   "execution_count": 670,
   "metadata": {},
   "outputs": [],
   "source": [
    "def main():\n",
    "    soup = get_soup()\n",
    "    data_day,dic_day = get_data(soup)\n",
    "    data_daily_his = pd.read_excel('Your File address', index_col = 0)\n",
    "    data_daily_upd = pd.concat([data_daily_his,data_day])\n",
    "    auth = tw.OAuthHandler(api_key, api_secret_key)\n",
    "    auth.set_access_token(access_token, access_secret_token)\n",
    "    api = tw.API(auth, wait_on_rate_limit=True)\n",
    "    tweet_day,tweet_2_day,somme = get_tweet_daily(dic_day)\n",
    "    print('You have your first tweet & gif')\n",
    "    gif_day = get_gif_daily(somme)\n",
    "    if dt.datetime.today().weekday() == 0 : \n",
    "        data_month,data_deck,dic_month,dic_deck = get_data_deck_month(soup)\n",
    "        data_month_his = pd.read_excel('Your File address', index_col = 0)\n",
    "        data_deck_his = pd.read_excel('Your File address', index_col = 0)\n",
    "        data_deck_upd = pd.concat([data_deck_his,data_deck])\n",
    "        tweet,tweet_best = get_tweet_deck(dic_deck,data_day)\n",
    "        gif = gifs_monday[np.random.randint(len(gifs_monday))]\n",
    "        status = api.update_with_media(gif,tweet)\n",
    "        status = api.update_status(tweet_best)\n",
    "        data_deck_upd.to_excel('your file address')  \n",
    "    print(\"Almost Done\")\n",
    "    data_daily_upd.to_excel('Your File address') \n",
    "    status = api.update_with_media(gif_day,tweet_day) \n",
    "    if tweet_2_day != '':\n",
    "        status = api.update_status(tweet_2_day)"
   ]
  },
  {
   "cell_type": "code",
   "execution_count": 657,
   "metadata": {},
   "outputs": [
    {
     "name": "stderr",
     "output_type": "stream",
     "text": [
      "[WDM] - ====== WebDriver manager ======\n",
      "[WDM] - Current google-chrome version is 91.0.4472\n",
      "[WDM] - Get LATEST driver version for 91.0.4472\n"
     ]
    },
    {
     "name": "stdout",
     "output_type": "stream",
     "text": [
      "\n",
      "\n"
     ]
    },
    {
     "name": "stderr",
     "output_type": "stream",
     "text": [
      "[WDM] - Driver [/Users/alexandretaranoff/.wdm/drivers/chromedriver/mac64/91.0.4472.101/chromedriver] found in cache\n"
     ]
    },
    {
     "name": "stdout",
     "output_type": "stream",
     "text": [
      "/Users/alexandretaranoff/Desktop/TTFL/dwight_monday.gif\n",
      "CPU times: user 244 ms, sys: 70.1 ms, total: 314 ms\n",
      "Wall time: 25.2 s\n"
     ]
    }
   ],
   "source": [
    "%%time\n",
    "main()"
   ]
  },
  {
   "cell_type": "code",
   "execution_count": 583,
   "metadata": {},
   "outputs": [],
   "source": [
    "\"\"\"Gifs Links and names in order to downloads them on your computer\"\"\"\n",
    "\n",
    "\n",
    "gif_links = []\n",
    "\n",
    "gif_names = []"
   ]
  },
  {
   "cell_type": "code",
   "execution_count": 584,
   "metadata": {},
   "outputs": [],
   "source": [
    "\n",
    "#for i in range(len(gif_links)):\n",
    "    #os.system(\"curl {} --output ~/Desktop/TTFL/gif_ttfl/{}.gif\".format(gif_links[i],gif_names[i]))\n",
    "    \n",
    "    "
   ]
  },
  {
   "cell_type": "code",
   "execution_count": null,
   "metadata": {},
   "outputs": [],
   "source": []
  }
 ],
 "metadata": {
  "kernelspec": {
   "display_name": "Python 3",
   "language": "python",
   "name": "python3"
  },
  "language_info": {
   "codemirror_mode": {
    "name": "ipython",
    "version": 3
   },
   "file_extension": ".py",
   "mimetype": "text/x-python",
   "name": "python",
   "nbconvert_exporter": "python",
   "pygments_lexer": "ipython3",
   "version": "3.8.5"
  }
 },
 "nbformat": 4,
 "nbformat_minor": 4
}
